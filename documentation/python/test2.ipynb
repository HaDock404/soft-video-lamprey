{
 "cells": [
  {
   "cell_type": "code",
   "execution_count": null,
   "metadata": {},
   "outputs": [],
   "source": [
    "import sounddevice as sd\n",
    "import numpy as np\n",
    "\n",
    "# Index des périphériques\n",
    "input_device_index = 1  # Carte de capture\n",
    "output_device_index = 3  # Haut-parleurs MacBook Pro\n",
    "\n",
    "# Paramètres audio\n",
    "samplerate = 48000  # Fréquence d'échantillonnage (standard HDMI)\n",
    "channels = 2        # Stéréo\n",
    "\n",
    "# Initialiser le flux de sortie global\n",
    "output_stream = None\n",
    "\n",
    "# Fonction de lecture audio\n",
    "def audio_callback(indata, frames, time, status):\n",
    "    global output_stream\n",
    "    if status:\n",
    "        print(\"Statut :\", status)\n",
    "    # Envoyer les données audio au flux de sortie\n",
    "    if output_stream:\n",
    "        output_stream.write(indata)\n",
    "\n",
    "# Créer le flux de sortie audio une fois\n",
    "output_stream = sd.OutputStream(device=output_device_index, samplerate=samplerate, channels=channels)\n",
    "output_stream.start()  # Démarrer le flux de sortie\n",
    "\n",
    "# Démarrer la capture audio\n",
    "try:\n",
    "    with sd.InputStream(device=input_device_index, channels=channels, samplerate=samplerate, callback=audio_callback):\n",
    "        print(\"Lecture en cours... Appuyez sur Ctrl+C pour arrêter.\")\n",
    "        sd.sleep(1000000000)  # Durée infinie, arrêter avec Ctrl+C\n",
    "except KeyboardInterrupt:\n",
    "    print(\"Arrêt manuel.\")\n",
    "finally:\n",
    "    # Arrêter le flux de sortie\n",
    "    output_stream.stop()\n",
    "    output_stream.close()\n"
   ]
  },
  {
   "cell_type": "code",
   "execution_count": null,
   "metadata": {},
   "outputs": [],
   "source": [
    "import sounddevice as sd\n",
    "\n",
    "print(sd.query_devices())"
   ]
  },
  {
   "cell_type": "code",
   "execution_count": null,
   "metadata": {},
   "outputs": [],
   "source": []
  }
 ],
 "metadata": {
  "kernelspec": {
   "display_name": "test-video",
   "language": "python",
   "name": "python3"
  },
  "language_info": {
   "codemirror_mode": {
    "name": "ipython",
    "version": 3
   },
   "file_extension": ".py",
   "mimetype": "text/x-python",
   "name": "python",
   "nbconvert_exporter": "python",
   "pygments_lexer": "ipython3",
   "version": "3.10.9"
  }
 },
 "nbformat": 4,
 "nbformat_minor": 2
}
